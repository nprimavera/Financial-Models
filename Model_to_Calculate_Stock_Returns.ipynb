{
  "nbformat": 4,
  "nbformat_minor": 0,
  "metadata": {
    "colab": {
      "provenance": [],
      "authorship_tag": "ABX9TyMjHzhjn9oqNYqFVKugLxk9",
      "include_colab_link": true
    },
    "kernelspec": {
      "name": "python3",
      "display_name": "Python 3"
    },
    "language_info": {
      "name": "python"
    }
  },
  "cells": [
    {
      "cell_type": "markdown",
      "metadata": {
        "id": "view-in-github",
        "colab_type": "text"
      },
      "source": [
        "<a href=\"https://colab.research.google.com/github/nprimavera/Financial-Models/blob/main/Model_to_Calculate_Stock_Returns.ipynb\" target=\"_parent\"><img src=\"https://colab.research.google.com/assets/colab-badge.svg\" alt=\"Open In Colab\"/></a>"
      ]
    },
    {
      "cell_type": "code",
      "execution_count": 2,
      "metadata": {
        "colab": {
          "base_uri": "https://localhost:8080/",
          "height": 360
        },
        "id": "oW08wPSCGhEn",
        "outputId": "53e8c5ff-c2fb-444c-b060-bbd18d215f24"
      },
      "outputs": [
        {
          "output_type": "stream",
          "name": "stdout",
          "text": [
            "\n",
            "\n",
            "Analyzing: AAPL\n"
          ]
        },
        {
          "output_type": "stream",
          "name": "stderr",
          "text": [
            "\r[*********************100%***********************]  1 of 1 completed\n"
          ]
        },
        {
          "output_type": "error",
          "ename": "TypeError",
          "evalue": "unsupported format string passed to Series.__format__",
          "traceback": [
            "\u001b[0;31m---------------------------------------------------------------------------\u001b[0m",
            "\u001b[0;31mTypeError\u001b[0m                                 Traceback (most recent call last)",
            "\u001b[0;32m<ipython-input-2-187201946>\u001b[0m in \u001b[0;36m<cell line: 0>\u001b[0;34m()\u001b[0m\n\u001b[1;32m     60\u001b[0m \u001b[0;34m\u001b[0m\u001b[0m\n\u001b[1;32m     61\u001b[0m \u001b[0;32mfor\u001b[0m \u001b[0mticker\u001b[0m \u001b[0;32min\u001b[0m \u001b[0mtickers\u001b[0m\u001b[0;34m:\u001b[0m\u001b[0;34m\u001b[0m\u001b[0;34m\u001b[0m\u001b[0m\n\u001b[0;32m---> 62\u001b[0;31m     \u001b[0manalyze_stock\u001b[0m\u001b[0;34m(\u001b[0m\u001b[0mticker\u001b[0m\u001b[0;34m)\u001b[0m\u001b[0;34m\u001b[0m\u001b[0;34m\u001b[0m\u001b[0m\n\u001b[0m",
            "\u001b[0;32m<ipython-input-2-187201946>\u001b[0m in \u001b[0;36manalyze_stock\u001b[0;34m(ticker)\u001b[0m\n\u001b[1;32m     52\u001b[0m \u001b[0;34m\u001b[0m\u001b[0m\n\u001b[1;32m     53\u001b[0m     \u001b[0mcurrent_price\u001b[0m \u001b[0;34m=\u001b[0m \u001b[0mdf\u001b[0m\u001b[0;34m[\u001b[0m\u001b[0;34m'Close'\u001b[0m\u001b[0;34m]\u001b[0m\u001b[0;34m.\u001b[0m\u001b[0miloc\u001b[0m\u001b[0;34m[\u001b[0m\u001b[0;34m-\u001b[0m\u001b[0;36m1\u001b[0m\u001b[0;34m]\u001b[0m\u001b[0;34m\u001b[0m\u001b[0;34m\u001b[0m\u001b[0m\n\u001b[0;32m---> 54\u001b[0;31m     \u001b[0mprint\u001b[0m\u001b[0;34m(\u001b[0m\u001b[0;34mf\"Current Price: ${current_price:.2f}\"\u001b[0m\u001b[0;34m)\u001b[0m\u001b[0;34m\u001b[0m\u001b[0;34m\u001b[0m\u001b[0m\n\u001b[0m\u001b[1;32m     55\u001b[0m     \u001b[0mcalculate_returns\u001b[0m\u001b[0;34m(\u001b[0m\u001b[0mdf\u001b[0m\u001b[0;34m,\u001b[0m \u001b[0mcurrent_price\u001b[0m\u001b[0;34m)\u001b[0m\u001b[0;34m\u001b[0m\u001b[0;34m\u001b[0m\u001b[0m\n\u001b[1;32m     56\u001b[0m     \u001b[0mplot_sma\u001b[0m\u001b[0;34m(\u001b[0m\u001b[0mdf\u001b[0m\u001b[0;34m,\u001b[0m \u001b[0mticker\u001b[0m\u001b[0;34m)\u001b[0m\u001b[0;34m\u001b[0m\u001b[0;34m\u001b[0m\u001b[0m\n",
            "\u001b[0;31mTypeError\u001b[0m: unsupported format string passed to Series.__format__"
          ]
        }
      ],
      "source": [
        "import yfinance as yf\n",
        "import pandas as pd\n",
        "import matplotlib.pyplot as plt\n",
        "from datetime import datetime, timedelta\n",
        "\n",
        "def calculate_returns(df, current_price):\n",
        "    return_periods = {\n",
        "        \"1 Week\": 7,\n",
        "        \"1 Month\": 30,\n",
        "        \"3 Months\": 90,\n",
        "        \"6 Months\": 180,\n",
        "        \"1 Year\": 365,\n",
        "        \"5 Years\": 5 * 365,\n",
        "    }\n",
        "\n",
        "    print(\"\\nReturns:\")\n",
        "    for label, days in return_periods.items():\n",
        "        past_date = df.index.max() - timedelta(days=days)\n",
        "        past_data = df[df.index <= past_date]\n",
        "        if not past_data.empty:\n",
        "            past_price = past_data['Close'].iloc[-1]\n",
        "            ret = (current_price - past_price) / past_price * 100\n",
        "            print(f\"{label} Return: {ret:.2f}%\")\n",
        "        else:\n",
        "            print(f\"{label} Return: Not enough data.\")\n",
        "\n",
        "def plot_sma(df, ticker):\n",
        "    df['SMA_50'] = df['Close'].rolling(window=50).mean()\n",
        "    df['SMA_200'] = df['Close'].rolling(window=200).mean()\n",
        "\n",
        "    plt.figure(figsize=(12, 6))\n",
        "    plt.plot(df.index, df['Close'], label='Close Price', alpha=0.5)\n",
        "    plt.plot(df.index, df['SMA_50'], label='50-Day SMA', linewidth=2)\n",
        "    plt.plot(df.index, df['SMA_200'], label='200-Day SMA', linewidth=2)\n",
        "    plt.title(f\"{ticker} - 50-Day vs 200-Day SMA\")\n",
        "    plt.xlabel(\"Date\")\n",
        "    plt.ylabel(\"Price\")\n",
        "    plt.legend()\n",
        "    plt.grid(True)\n",
        "    plt.tight_layout()\n",
        "    plt.show()\n",
        "\n",
        "def analyze_stock(ticker):\n",
        "    print(f\"\\n\\nAnalyzing: {ticker}\")\n",
        "    end = datetime.today()\n",
        "    start = end - timedelta(days=5*365 + 200)  # buffer for 5 years + SMA\n",
        "    df = yf.download(ticker, start=start.strftime('%Y-%m-%d'), end=end.strftime('%Y-%m-%d'))\n",
        "\n",
        "    if df.empty:\n",
        "        print(\"No data found.\")\n",
        "        return\n",
        "\n",
        "    current_price = df['Close'].iloc[-1]\n",
        "    print(f\"Current Price: ${current_price:.2f}\")\n",
        "    calculate_returns(df, current_price)\n",
        "    plot_sma(df, ticker)\n",
        "\n",
        "# === INPUT YOUR STOCK TICKERS HERE ===\n",
        "tickers = ['AAPL', 'MSFT', 'GOOG']  # ← Add or remove tickers here\n",
        "\n",
        "for ticker in tickers:\n",
        "    analyze_stock(ticker)"
      ]
    }
  ]
}