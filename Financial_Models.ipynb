{
  "nbformat": 4,
  "nbformat_minor": 0,
  "metadata": {
    "colab": {
      "provenance": [],
      "authorship_tag": "ABX9TyOGLC2SmTiQw8FKGM59eilp",
      "include_colab_link": true
    },
    "kernelspec": {
      "name": "python3",
      "display_name": "Python 3"
    },
    "language_info": {
      "name": "python"
    }
  },
  "cells": [
    {
      "cell_type": "markdown",
      "metadata": {
        "id": "view-in-github",
        "colab_type": "text"
      },
      "source": [
        "<a href=\"https://colab.research.google.com/github/nprimavera/Financial-Models/blob/main/Financial_Models.ipynb\" target=\"_parent\"><img src=\"https://colab.research.google.com/assets/colab-badge.svg\" alt=\"Open In Colab\"/></a>"
      ]
    },
    {
      "cell_type": "markdown",
      "source": [
        "Linear Regression Model"
      ],
      "metadata": {
        "id": "6ZJ8g-n5RMA6"
      }
    },
    {
      "cell_type": "code",
      "execution_count": null,
      "metadata": {
        "id": "8MqihRiuPdLv"
      },
      "outputs": [],
      "source": [
        "import yfinance as yf\n",
        "import pandas as pd\n",
        "from sklearn.linear_model import LinearRegression\n",
        "from sklearn.model_selection import train_test_split"
      ]
    },
    {
      "cell_type": "code",
      "source": [
        "# Download stock data\n",
        "data = yf.download(\"AAPL\", start=\"2020-01-01\", end=\"2024-01-01\")\n",
        "#print(f\"\\n\\nApple Data: \\n{data}\\n\")\n",
        "\n",
        "# Compute daily return\n",
        "\"\"\"\n",
        "Return (pct_change() in pandas)\n",
        "    - looks at percentage change\n",
        "    - Return = P_t - P_t-n / P_t-n\n",
        "\"\"\"\n",
        "data['Return'] = data['Close'].pct_change()\n",
        "\n",
        "# Print data\n",
        "data = data.rename(columns={\n",
        "    'Open': 'AAPL_Open',\n",
        "    'High': 'AAPL_High',\n",
        "    'Low': 'AAPL_Low',\n",
        "    'Close': 'AAPL_Close',\n",
        "    'Volume': 'AAPL_Volume',\n",
        "    'Adj Close': 'AAPL_Adj_Close',\n",
        "    'Return': 'AAPL_Return'\n",
        "})\n",
        "\n",
        "data = data.reset_index() # make data a column\n",
        "\n",
        "print(\"\\n\\nCleaned AAPL Stock Data:\\n\")\n",
        "print(data)\n",
        "\n",
        "# Add simple features\n",
        "\"\"\"\n",
        "SMA (Simple Moving Average):\n",
        "    - SMA is the unweighted average of the last n data points (typically prices) in a time series.\n",
        "    - It's used to smooth out short-term fluctuations and highlight longer-term trends in data.\n",
        "    - SMA_t = 1/n * ∑^n-1_{i=0} (Price_t-i) where P_t-i is the price at time t-i and n is the window length (5 days, 10 days)\n",
        "    - ex: SMA_5 = 1/5 * (100 + 102 + 101 + 104 + 106) = 102.6\n",
        "\n",
        "Momentum:\n",
        "    - Difference between current and previous price:  Momentum = Current Price - Price from N days ago\n",
        "    - The rate of change of an asset's price - how fast and in what direction a stock is moving\n",
        "    - Measures whether a stock has been gaining or losing value over a certain time window\n",
        "    - ex: Momentum = 150 - 135 = 15, stock price has a positive momentum\n",
        "    - Used when you want to track raw gains/losses and returns for normalized changes across assets\n",
        "\"\"\"\n",
        "data['SMA_5'] = data['AAPL_Close'].rolling(window=5).mean()\n",
        "data['SMA_10'] = data['AAPL_Close'].rolling(window=10).mean()\n",
        "data['Momentum'] = data['AAPL_Close'] - data['AAPL_Close'].shift(10)\n",
        "data = data.dropna()\n",
        "\n",
        "# Step 3: Define X and y\n",
        "X = data[['SMA_5', 'SMA_10', 'Momentum']]\n",
        "y = data['AAPL_Return'].shift(-1)  # next-day return\n",
        "X, y = X[:-1], y[:-1]  # Align\n",
        "\n",
        "# Step 4: Train/test split\n",
        "X_train, X_test, y_train, y_test = train_test_split(X, y, test_size=0.2, shuffle=False)\n",
        "\n",
        "# Step 5: Fit model\n",
        "model = LinearRegression()\n",
        "model.fit(X_train, y_train)\n",
        "\n",
        "# Predict future returns\n",
        "y_pred = model.predict(X_test)\n",
        "\n",
        "# Evaluate (simple)\n",
        "print(\"\\nPredicted returns (first 5):\", y_pred[:5])"
      ],
      "metadata": {
        "colab": {
          "base_uri": "https://localhost:8080/"
        },
        "id": "8cxphp0iRRsJ",
        "outputId": "b4481bb2-961b-4357-8edb-ac012a7eb932"
      },
      "execution_count": null,
      "outputs": [
        {
          "output_type": "stream",
          "name": "stderr",
          "text": [
            "\r[*********************100%***********************]  1 of 1 completed"
          ]
        },
        {
          "output_type": "stream",
          "name": "stdout",
          "text": [
            "\n",
            "\n",
            "Cleaned AAPL Stock Data:\n",
            "\n",
            "Price        Date  AAPL_Close   AAPL_High    AAPL_Low   AAPL_Open AAPL_Volume  \\\n",
            "Ticker                   AAPL        AAPL        AAPL        AAPL        AAPL   \n",
            "0      2020-01-02   72.620834   72.681281   71.373211   71.627084   135480400   \n",
            "1      2020-01-03   71.914803   72.676431   71.689942   71.847102   146322800   \n",
            "2      2020-01-06   72.487862   72.526549   70.783263   71.034724   118387200   \n",
            "3      2020-01-07   72.146935   72.753816   71.926907   72.497522   108872000   \n",
            "4      2020-01-08   73.307518   73.609752   71.849540   71.849540   132079200   \n",
            "...           ...         ...         ...         ...         ...         ...   \n",
            "1001   2023-12-22  192.192551  193.989390  191.567126  193.761051    37122800   \n",
            "1002   2023-12-26  191.646561  192.480450  191.428159  192.202487    28919300   \n",
            "1003   2023-12-27  191.745834  192.093296  189.700813  191.090644    48087700   \n",
            "1004   2023-12-28  192.172699  193.244849  191.765676  192.728625    34049900   \n",
            "1005   2023-12-29  191.130310  192.986710  190.336123  192.490345    42628800   \n",
            "\n",
            "Price  AAPL_Return  \n",
            "Ticker              \n",
            "0              NaN  \n",
            "1        -0.009722  \n",
            "2         0.007969  \n",
            "3        -0.004703  \n",
            "4         0.016086  \n",
            "...            ...  \n",
            "1001     -0.005547  \n",
            "1002     -0.002841  \n",
            "1003      0.000518  \n",
            "1004      0.002226  \n",
            "1005     -0.005424  \n",
            "\n",
            "[1006 rows x 7 columns]\n",
            "\n",
            "Predicted returns (first 5): [-0.00331005 -0.00041097  0.00065646 -0.00029825  0.00106176]\n"
          ]
        },
        {
          "output_type": "stream",
          "name": "stderr",
          "text": [
            "\n"
          ]
        }
      ]
    }
  ]
}